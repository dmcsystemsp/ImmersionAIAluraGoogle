{
  "nbformat": 4,
  "nbformat_minor": 0,
  "metadata": {
    "colab": {
      "provenance": [],
      "authorship_tag": "ABX9TyOBWcuvp/X74kqqR5mmJUvp",
      "include_colab_link": true
    },
    "kernelspec": {
      "name": "python3",
      "display_name": "Python 3"
    },
    "language_info": {
      "name": "python"
    }
  },
  "cells": [
    {
      "cell_type": "markdown",
      "metadata": {
        "id": "view-in-github",
        "colab_type": "text"
      },
      "source": [
        "<a href=\"https://colab.research.google.com/github/dmcsystemsp/ImmersionAIAluraGoogle/blob/main/projetoimersaoai.ipynb\" target=\"_parent\"><img src=\"https://colab.research.google.com/assets/colab-badge.svg\" alt=\"Open In Colab\"/></a>"
      ]
    },
    {
      "cell_type": "code",
      "source": [
        "!pip install -U -q google-generativeai"
      ],
      "metadata": {
        "id": "aZaLt_Yw_6TK"
      },
      "execution_count": 15,
      "outputs": []
    },
    {
      "cell_type": "code",
      "source": [
        "import google.generativeai as genai\n",
        "import textwrap\n",
        "from google.colab import userdata\n",
        "from IPython.display import display\n",
        "from IPython.display import Markdown\n",
        "\n",
        "\n",
        "def to_markdown(text):\n",
        "  text = text.replace('•', '  *')\n",
        "  return Markdown(textwrap.indent(text, '> ', predicate=lambda _: True))\n",
        "\n",
        "API_KEY = userdata.get(\"SECRET_KEY\")\n",
        "\n",
        "genai.configure(api_key=API_KEY)\n",
        "\n",
        "generation_config = {\n",
        "    \"candidate_count\": 1,\n",
        "    \"temperature\": 0.5,\n",
        "    \"top_p\": 0.5,\n",
        "}\n",
        "\n",
        "safety_settings = {\n",
        "    \"HARASSMENT\": \"BLOCK_NONE\",\n",
        "    \"HATE\": \"BLOCK_NONE\",\n",
        "    \"SEXUAL\": \"BLOCK_NONE\",\n",
        "    \"DANGEROUS\": \"BLOCK_NONE\",\n",
        "}\n",
        "\n",
        "model = genai.GenerativeModel(model_name=\"gemini-1.0-pro\",\n",
        "                              generation_config=generation_config,\n",
        "                              safety_settings=safety_settings)\n",
        "\n",
        "\n",
        "dados_history = model.start_chat(history=[])\n",
        "\n",
        "print(\"\\nDigite 'fim' para Sair do Sistema\")\n",
        "entrada = input(\"Digite sua entrada: \")\n",
        "\n",
        "while entrada != \"fim\":\n",
        "  result = dados_history.send_message(entrada)\n",
        "  print(f\"Resposta: {result.text}\\n\")\n",
        "  print(\"\\nDigite 'fim' para Sair do Sistema\")\n",
        "  entrada = input(\"Digite sua entrada: \")\n",
        "\n",
        "print(\"\\nImprimindo o Relatório de Entradas do Chatbot\")\n",
        "print(f\"=\" * 100)\n",
        "for entrada in dados_history.history:\n",
        "  display(to_markdown(f\"**{entrada.role}**: {entrada.parts[0].text}\"))\n",
        "  print(f\"-\" * 100)\n",
        "\n",
        "\n"
      ],
      "metadata": {
        "id": "KiAR7DMX__Zj"
      },
      "execution_count": null,
      "outputs": []
    }
  ]
}